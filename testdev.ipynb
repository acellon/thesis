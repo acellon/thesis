{
  "cells": [
    {
      "cell_type": "markdown",
      "source": [
        "# Test/Dev Neural Network Architecture"
      ],
      "metadata": {}
    },
    {
      "cell_type": "code",
      "source": [
        "from __future__ import print_function\n",
        "\n",
        "import sys\n",
        "import os\n",
        "import time\n",
        "\n",
        "import numpy as np\n",
        "\nimport chb"
      ],
      "outputs": [],
      "execution_count": 19,
      "metadata": {
        "collapsed": true
      }
    },
    {
      "cell_type": "markdown",
      "source": [
        "## Load Subject Data"
      ],
      "metadata": {}
    },
    {
      "cell_type": "code",
      "source": [
        "subject = chb.CHBsubj()\n",
        "subject.load_meta('chb22')\n",
        "subject.load_data(exthd=False)"
      ],
      "outputs": [
        {
          "output_type": "stream",
          "name": "stdout",
          "text": [
            "Loading: /Users/adamcellon/Drive/senior/thesis/data/chb22.npz\n",
            "Done: 66.427477 seconds elapsed.\n"
          ]
        }
      ],
      "execution_count": 15,
      "metadata": {
        "collapsed": false
      }
    },
    {
      "cell_type": "code",
      "source": [
        "eeg = subject[0].get_rec()\n",
        "\n",
        "print(eeg.shape)\n",
        "print('Deleting empty channels...')\n",
        "eeg = np.delete(eeg, [4,9,12,17,22], 0)\n",
        "\nprint(eeg.shape)"
      ],
      "outputs": [
        {
          "output_type": "stream",
          "name": "stdout",
          "text": [
            "(28, 921600)\n",
            "Deleting empty channels...\n",
            "(23, 921600)\n"
          ]
        }
      ],
      "execution_count": 37,
      "metadata": {
        "collapsed": false,
        "outputHidden": false,
        "inputHidden": false
      }
    },
    {
      "cell_type": "code",
      "source": [],
      "outputs": [],
      "execution_count": null,
      "metadata": {
        "collapsed": false,
        "outputHidden": false,
        "inputHidden": false
      }
    }
  ],
  "metadata": {
    "kernelspec": {
      "name": "python3",
      "language": "python",
      "display_name": "Python 3"
    },
    "language_info": {
      "name": "python",
      "version": "3.6.0",
      "mimetype": "text/x-python",
      "codemirror_mode": {
        "name": "ipython",
        "version": 3
      },
      "pygments_lexer": "ipython3",
      "nbconvert_exporter": "python",
      "file_extension": ".py"
    },
    "kernel_info": {
      "name": "python3"
    }
  },
  "nbformat": 4,
  "nbformat_minor": 2
}