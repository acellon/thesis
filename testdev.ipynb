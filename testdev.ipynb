{
 "cells": [
  {
   "cell_type": "markdown",
   "metadata": {},
   "source": [
    "# Test/Dev Neural Network Architecture"
   ]
  },
  {
   "cell_type": "code",
   "execution_count": 97,
   "metadata": {
    "collapsed": true
   },
   "outputs": [],
   "source": [
    "from __future__ import print_function\n",
    "\n",
    "import sys\n",
    "import os\n",
    "import time\n",
    "\n",
    "import numpy as np\n",
    "\n",
    "import chb\n",
    "import matplotlib.pyplot as plt\n",
    "from helpers import *\n",
    "\n",
    "import pickle\n",
    "\n",
    "from sklearn.metrics import roc_auc_score, matthews_corrcoef, confusion_matrix"
   ]
  },
  {
   "cell_type": "code",
   "execution_count": 2,
   "metadata": {
    "collapsed": false,
    "inputHidden": false,
    "outputHidden": false
   },
   "outputs": [],
   "source": [
    "%load_ext autoreload\n",
    "%autoreload 2\n",
    "%matplotlib inline"
   ]
  },
  {
   "cell_type": "code",
   "execution_count": 3,
   "metadata": {
    "collapsed": true
   },
   "outputs": [],
   "source": [
    "def metrics(npz, thresh=0.8):\n",
    "    npzlen = int(len(npz.files)/2)\n",
    "    for i in range(1, npzlen + 1):\n",
    "        pred = (npz['_'.join(['prob', str(i)])] > thresh).astype('int32')\n",
    "        mcc = matthews_corrcoef(npz['_'.join(['true', str(i)])], pred)\n",
    "        cm = confusion_matrix(npz['_'.join(['true', str(i)])], pred)\n",
    "        print('Matthews Correlation Coefficient: \\t{}'.format(mcc))\n",
    "        print('Confusion matrix:\\n{}'.format(cm))"
   ]
  },
  {
   "cell_type": "code",
   "execution_count": null,
   "metadata": {
    "collapsed": false
   },
   "outputs": [],
   "source": [
    "init = np.load('./outputs/chb04init.npz', encoding='latin1')\n",
    "plotprob(init, 0.5)\n",
    "metrics(init, 0.5)"
   ]
  },
  {
   "cell_type": "code",
   "execution_count": null,
   "metadata": {
    "collapsed": false
   },
   "outputs": [],
   "source": [
    "chb05 = np.load('./outputs/chb05a5long.npz', encoding='latin1')\n",
    "print('chb05:',int(len(chb05.files)/2))\n",
    "chb11 = np.load('./outputs/chb11init.npz', encoding='latin1')\n",
    "print('chb11:',int(len(chb11.files)/2))\n",
    "chb17 = np.load('./outputs/chb17init.npz', encoding='latin1')\n",
    "print('chb17:',int(len(chb17.files)/2))\n",
    "chb20 = np.load('./outputs/chb20init.npz', encoding='latin1')\n",
    "print('chb20:',int(len(chb20.files)/2))\n",
    "chb21 = np.load('./outputs/chb21init.npz', encoding='latin1')\n",
    "print('chb21:',int(len(chb21.files)/2))\n",
    "chb22 = np.load('./outputs/chb22init.npz', encoding='latin1')\n",
    "print('chb22:',int(len(chb22.files)/2))"
   ]
  },
  {
   "cell_type": "code",
   "execution_count": null,
   "metadata": {
    "collapsed": false
   },
   "outputs": [],
   "source": [
    "plt.figure(figsize=(24,20))\n",
    "ax1 = plt.subplot(5,6,1)\n",
    "ax1.text(-0.1, 1.05, 'A', transform=ax1.transAxes, \n",
    "            size=20, weight='bold')\n",
    "plt.plot(chb05['prob_1'])\n",
    "plt.plot(chb05['true_1'])\n",
    "plt.subplot(5,6,2)\n",
    "plt.plot(chb05['prob_2'])\n",
    "plt.plot(chb05['true_2'])\n",
    "plt.subplot(5,6,3)\n",
    "plt.plot(chb05['prob_3'])\n",
    "plt.plot(chb05['true_3'])\n",
    "plt.subplot(5,6,4)\n",
    "plt.plot(chb05['prob_4'])\n",
    "plt.plot(chb05['true_4'])\n",
    "plt.subplot(5,6,5)\n",
    "plt.plot(chb05['prob_5'])\n",
    "plt.plot(chb05['true_5'])\n",
    "\n",
    "ax2 = plt.subplot(5,6,7)\n",
    "ax2.text(-0.1, 1.05, 'B', transform=ax2.transAxes, \n",
    "            size=20, weight='bold')\n",
    "plt.plot(chb11['prob_1'])\n",
    "plt.plot(chb11['true_1'])\n",
    "plt.subplot(5,6,8)\n",
    "plt.plot(chb11['prob_2'])\n",
    "plt.plot(chb11['true_2'])\n",
    "plt.subplot(5,6,9)\n",
    "plt.plot(chb11['prob_3'])\n",
    "plt.plot(chb11['true_3'])\n",
    "\n",
    "ax3 = plt.subplot(5,6,13)\n",
    "ax3.text(-0.1, 1.05, 'C', transform=ax3.transAxes, \n",
    "            size=20, weight='bold')\n",
    "plt.plot(chb20['prob_1'])\n",
    "plt.plot(chb20['true_1'])\n",
    "plt.subplot(5,6,14)\n",
    "plt.plot(chb20['prob_2'])\n",
    "plt.plot(chb20['true_2'])\n",
    "plt.subplot(5,6,15)\n",
    "plt.plot(chb20['prob_4'])\n",
    "plt.plot(chb20['true_4'])\n",
    "plt.subplot(5,6,16)\n",
    "plt.plot(chb20['prob_6'])\n",
    "plt.plot(chb20['true_6'])\n",
    "plt.subplot(5,6,17)\n",
    "plt.plot(chb20['prob_7'])\n",
    "plt.plot(chb20['true_7'])\n",
    "plt.subplot(5,6,18)\n",
    "plt.plot(chb20['prob_8'])\n",
    "plt.plot(chb20['true_8'])\n",
    "\n",
    "ax4 = plt.subplot(5,6,19)\n",
    "ax4.text(-0.1, 1.05, 'D', transform=ax4.transAxes, \n",
    "            size=20, weight='bold')\n",
    "plt.plot(chb21['prob_1'])\n",
    "plt.plot(chb21['true_1'])\n",
    "plt.subplot(5,6,20)\n",
    "plt.plot(chb21['prob_2'])\n",
    "plt.plot(chb21['true_2'])\n",
    "plt.subplot(5,6,21)\n",
    "plt.plot(chb21['prob_3'])\n",
    "plt.plot(chb21['true_3'])\n",
    "plt.subplot(5,6,22)\n",
    "plt.plot(chb21['prob_4'])\n",
    "plt.plot(chb21['true_4'])\n",
    "\n",
    "ax5 = plt.subplot(5,6,25)\n",
    "ax5.text(-0.1, 1.05, 'E', transform=ax5.transAxes, \n",
    "            size=20, weight='bold')\n",
    "plt.plot(chb22['prob_1'])\n",
    "plt.plot(chb22['true_1'])\n",
    "plt.subplot(5,6,26)\n",
    "plt.plot(chb22['prob_2'])\n",
    "plt.plot(chb22['true_2'])\n",
    "plt.subplot(5,6,27)\n",
    "plt.plot(chb22['prob_3'])\n",
    "plt.plot(chb22['true_3'])"
   ]
  },
  {
   "cell_type": "code",
   "execution_count": null,
   "metadata": {
    "collapsed": false
   },
   "outputs": [],
   "source": [
    "plt.figure(figsize=(24,20))\n",
    "ax1 = plt.subplot(5,6,1)\n",
    "ax1.text(-0.1, 1.05, 'A', transform=ax1.transAxes, \n",
    "            size=20, weight='bold')\n",
    "plt.plot(chb05['prob_1'])\n",
    "plt.plot(chb05['true_1'])\n",
    "plt.subplot(5,6,2)\n",
    "plt.plot(chb05['prob_2'])\n",
    "plt.plot(chb05['true_2'])\n",
    "plt.subplot(5,6,3)\n",
    "plt.plot(chb05['prob_3'])\n",
    "plt.plot(chb05['true_3'])\n",
    "plt.subplot(5,6,4)\n",
    "plt.plot(chb05['prob_4'])\n",
    "plt.plot(chb05['true_4'])\n",
    "plt.subplot(5,6,5)\n",
    "plt.plot(chb05['prob_5'])\n",
    "plt.plot(chb05['true_5'])\n",
    "\n",
    "ax2 = plt.subplot(5,6,7)\n",
    "ax2.text(-0.1, 1.05, 'B', transform=ax2.transAxes, \n",
    "            size=20, weight='bold')\n",
    "plt.plot(chb11['prob_1'])\n",
    "plt.plot(chb11['true_1'])\n",
    "plt.subplot(5,6,8)\n",
    "plt.plot(chb11['prob_2'])\n",
    "plt.plot(chb11['true_2'])\n",
    "plt.subplot(5,6,9)\n",
    "plt.plot(chb11['prob_3'])\n",
    "plt.plot(chb11['true_3'])\n",
    "\n",
    "ax5 = plt.subplot(5,6,10)\n",
    "ax5.text(-0.1, 1.05, 'C', transform=ax5.transAxes, \n",
    "            size=20, weight='bold')\n",
    "plt.plot(chb22['prob_1'])\n",
    "plt.plot(chb22['true_1'])\n",
    "plt.subplot(5,6,11)\n",
    "plt.plot(chb22['prob_2'])\n",
    "plt.plot(chb22['true_2'])\n",
    "plt.subplot(5,6,12)\n",
    "plt.plot(chb22['prob_3'])\n",
    "plt.plot(chb22['true_3'])\n",
    "\n",
    "ax3 = plt.subplot(5,6,13)\n",
    "ax3.text(-0.1, 1.05, 'D', transform=ax3.transAxes, \n",
    "            size=20, weight='bold')\n",
    "plt.plot(chb20['prob_1'])\n",
    "plt.plot(chb20['true_1'])\n",
    "plt.subplot(5,6,14)\n",
    "plt.plot(chb20['prob_2'])\n",
    "plt.plot(chb20['true_2'])\n",
    "plt.subplot(5,6,15)\n",
    "plt.plot(chb20['prob_4'])\n",
    "plt.plot(chb20['true_4'])\n",
    "plt.subplot(5,6,16)\n",
    "plt.plot(chb20['prob_6'])\n",
    "plt.plot(chb20['true_6'])\n",
    "plt.subplot(5,6,17)\n",
    "plt.plot(chb20['prob_7'])\n",
    "plt.plot(chb20['true_7'])\n",
    "plt.subplot(5,6,18)\n",
    "plt.plot(chb20['prob_8'])\n",
    "plt.plot(chb20['true_8'])\n",
    "\n",
    "ax4 = plt.subplot(5,6,19)\n",
    "ax4.text(-0.1, 1.05, 'E', transform=ax4.transAxes, \n",
    "            size=20, weight='bold')\n",
    "plt.plot(chb21['prob_1'])\n",
    "plt.plot(chb21['true_1'])\n",
    "plt.subplot(5,6,20)\n",
    "plt.plot(chb21['prob_2'])\n",
    "plt.plot(chb21['true_2'])\n",
    "plt.subplot(5,6,21)\n",
    "plt.plot(chb21['prob_3'])\n",
    "plt.plot(chb21['true_3'])\n",
    "plt.subplot(5,6,22)\n",
    "plt.plot(chb21['prob_4'])\n",
    "plt.plot(chb21['true_4'])"
   ]
  },
  {
   "cell_type": "markdown",
   "metadata": {},
   "source": [
    "The figure above includes the subjects for which a first pass with the ConvNet produced favorable results. The subjects are CHB05, CHB11, CHB20, CHB21, and CHB22. The columns show the output of the ConvNet tested on the seizure file, trained on all others (Leave-One-Out testing). For CHB20, the better of the outputs was chosen for each file that contains two seizures, though they were comparable."
   ]
  },
  {
   "cell_type": "code",
   "execution_count": null,
   "metadata": {
    "collapsed": false
   },
   "outputs": [],
   "source": [
    "chb01 = np.load('./outputs/chb01us.npz', encoding='latin1')\n",
    "print('chb01:',int(len(chb01.files)/2))\n",
    "chb03 = np.load('./outputs/chb03init.npz', encoding='latin1')\n",
    "print('chb03:',int(len(chb03.files)/2))\n",
    "chb07 = np.load('./outputs/chb07init.npz', encoding='latin1')\n",
    "print('chb07:',int(len(chb07.files)/2))\n",
    "chb08 = np.load('./outputs/chb08init.npz', encoding='latin1')\n",
    "print('chb08:',int(len(chb08.files)/2))\n",
    "chb17 = np.load('./outputs/chb17init.npz', encoding='latin1')\n",
    "print('chb17:',int(len(chb17.files)/2))\n",
    "chb18 = np.load('./outputs/chb18init.npz', encoding='latin1')\n",
    "print('chb18:',int(len(chb18.files)/2))\n",
    "chb19 = np.load('./outputs/chb19init.npz', encoding='latin1')\n",
    "print('chb19:',int(len(chb19.files)/2))"
   ]
  },
  {
   "cell_type": "code",
   "execution_count": null,
   "metadata": {
    "collapsed": false
   },
   "outputs": [],
   "source": [
    "plt.figure(figsize=(24,24))\n",
    "ax1 = plt.subplot(7,7,1)\n",
    "ax1.text(-0.1, 1.05, 'A', transform=ax1.transAxes, \n",
    "            size=20, weight='bold')\n",
    "plt.plot(chb01['prob_1'])\n",
    "plt.plot(chb01['true_1'])\n",
    "plt.subplot(7,7,2)\n",
    "plt.plot(chb01['prob_2'])\n",
    "plt.plot(chb01['true_2'])\n",
    "plt.subplot(7,7,3)\n",
    "plt.plot(chb01['prob_3'])\n",
    "plt.plot(chb01['true_3'])\n",
    "plt.subplot(7,7,4)\n",
    "plt.plot(chb01['prob_4'])\n",
    "plt.plot(chb01['true_4'])\n",
    "plt.subplot(7,7,5)\n",
    "plt.plot(chb01['prob_5'])\n",
    "plt.plot(chb01['true_5'])\n",
    "plt.subplot(7,7,6)\n",
    "plt.plot(chb01['prob_6'])\n",
    "plt.plot(chb01['true_6'])\n",
    "plt.subplot(7,7,7)\n",
    "plt.plot(chb01['prob_7'])\n",
    "plt.plot(chb01['true_7'])\n",
    "\n",
    "ax2 = plt.subplot(7,7,8)\n",
    "ax2.text(-0.1, 1.05, 'B', transform=ax2.transAxes, \n",
    "            size=20, weight='bold')\n",
    "plt.plot(chb03['prob_1'])\n",
    "plt.plot(chb03['true_1'])\n",
    "plt.subplot(7,7,9)\n",
    "plt.plot(chb03['prob_2'])\n",
    "plt.plot(chb03['true_2'])\n",
    "plt.subplot(7,7,10)\n",
    "plt.plot(chb03['prob_3'])\n",
    "plt.plot(chb03['true_3'])\n",
    "plt.subplot(7,7,11)\n",
    "plt.plot(chb03['prob_4'])\n",
    "plt.plot(chb03['true_4'])\n",
    "plt.subplot(7,7,12)\n",
    "plt.plot(chb03['prob_5'])\n",
    "plt.plot(chb03['true_5'])\n",
    "plt.subplot(7,7,13)\n",
    "plt.plot(chb03['prob_6'])\n",
    "plt.plot(chb03['true_6'])\n",
    "plt.subplot(7,7,14)\n",
    "plt.plot(chb03['prob_7'])\n",
    "plt.plot(chb03['true_7'])\n",
    "\n",
    "ax3 = plt.subplot(7,7,15)\n",
    "ax3.text(-0.1, 1.05, 'C', transform=ax3.transAxes, \n",
    "            size=20, weight='bold')\n",
    "plt.plot(chb07['prob_1'])\n",
    "plt.plot(chb07['true_1'])\n",
    "plt.subplot(7,7,16)\n",
    "plt.plot(chb07['prob_2'])\n",
    "plt.plot(chb07['true_2'])\n",
    "plt.subplot(7,7,17)\n",
    "plt.plot(chb07['prob_3'])\n",
    "plt.plot(chb07['true_3'])\n",
    "\n",
    "ax4 = plt.subplot(7,7,22)\n",
    "ax4.text(-0.1, 1.05, 'D', transform=ax4.transAxes, \n",
    "            size=20, weight='bold')\n",
    "plt.plot(chb08['prob_1'])\n",
    "plt.plot(chb08['true_1'])\n",
    "plt.subplot(7,7,23)\n",
    "plt.plot(chb08['prob_2'])\n",
    "plt.plot(chb08['true_2'])\n",
    "plt.subplot(7,7,24)\n",
    "plt.plot(chb08['prob_3'])\n",
    "plt.plot(chb08['true_3'])\n",
    "plt.subplot(7,7,25)\n",
    "plt.plot(chb08['prob_4'])\n",
    "plt.plot(chb08['true_4'])\n",
    "plt.subplot(7,7,26)\n",
    "plt.plot(chb08['prob_5'])\n",
    "plt.plot(chb08['true_5'])\n",
    "\n",
    "ax5 = plt.subplot(7,7,29)\n",
    "ax5.text(-0.1, 1.05, 'E', transform=ax5.transAxes, \n",
    "            size=20, weight='bold')\n",
    "plt.plot(chb17['prob_1'])\n",
    "plt.plot(chb17['true_1'])\n",
    "plt.subplot(7,7,30)\n",
    "plt.plot(chb17['prob_2'])\n",
    "plt.plot(chb17['true_2'])\n",
    "plt.subplot(7,7,31)\n",
    "plt.plot(chb17['prob_3'])\n",
    "plt.plot(chb17['true_3'])\n",
    "\n",
    "ax6 = plt.subplot(7,7,36)\n",
    "ax6.text(-0.1, 1.05, 'F', transform=ax6.transAxes, \n",
    "            size=20, weight='bold')\n",
    "plt.plot(chb18['prob_1'])\n",
    "plt.plot(chb18['true_1'])\n",
    "plt.subplot(7,7,37)\n",
    "plt.plot(chb18['prob_2'])\n",
    "plt.plot(chb18['true_2'])\n",
    "plt.subplot(7,7,38)\n",
    "plt.plot(chb18['prob_3'])\n",
    "plt.plot(chb18['true_3'])\n",
    "plt.subplot(7,7,39)\n",
    "plt.plot(chb18['prob_4'])\n",
    "plt.plot(chb18['true_4'])\n",
    "plt.subplot(7,7,40)\n",
    "plt.plot(chb18['prob_5'])\n",
    "plt.plot(chb18['true_5'])\n",
    "plt.subplot(7,7,41)\n",
    "plt.plot(chb18['prob_6'])\n",
    "plt.plot(chb18['true_6'])\n",
    "\n",
    "ax7 = plt.subplot(7,7,43)\n",
    "ax7.text(-0.1, 1.05, 'G', transform=ax7.transAxes, \n",
    "            size=20, weight='bold')\n",
    "plt.plot(chb19['prob_1'])\n",
    "plt.plot(chb19['true_1'])\n",
    "plt.subplot(7,7,44)\n",
    "plt.plot(chb19['prob_2'])\n",
    "plt.plot(chb19['true_2'])\n",
    "plt.subplot(7,7,45)\n",
    "plt.plot(chb19['prob_3'])\n",
    "plt.plot(chb19['true_3'])"
   ]
  },
  {
   "cell_type": "code",
   "execution_count": null,
   "metadata": {
    "collapsed": false,
    "scrolled": true
   },
   "outputs": [],
   "source": [
    "chb02 = np.load('./outputs/chb02init.npz', encoding='latin1')\n",
    "print('chb02:',int(len(chb02.files)/2))\n",
    "chb04 = np.load('./outputs/chb04init.npz', encoding='latin1')\n",
    "print('chb04:',int(len(chb04.files)/2))\n",
    "chb09 = np.load('./outputs/chb09us3.npz', encoding='latin1')\n",
    "print('chb09:',int(len(chb09.files)/2))"
   ]
  },
  {
   "cell_type": "code",
   "execution_count": null,
   "metadata": {
    "collapsed": false,
    "scrolled": false
   },
   "outputs": [],
   "source": [
    "plt.figure(figsize=(16,12))\n",
    "ax1 = plt.subplot(3,4,1)\n",
    "ax1.text(-0.1, 1.05, 'A', transform=ax1.transAxes, \n",
    "            size=20, weight='bold')\n",
    "plt.plot(chb02['prob_1'])\n",
    "plt.plot(chb02['true_1'])\n",
    "plt.subplot(3,4,2)\n",
    "plt.plot(chb02['prob_2'])\n",
    "plt.plot(chb02['true_2'])\n",
    "\n",
    "\n",
    "ax2 = plt.subplot(3,4,5)\n",
    "ax2.text(-0.1, 1.05, 'B', transform=ax2.transAxes, \n",
    "            size=20, weight='bold')\n",
    "plt.plot(chb04['prob_1'])\n",
    "plt.plot(chb04['true_1'])\n",
    "plt.subplot(3,4,6)\n",
    "plt.plot(chb04['prob_2'])\n",
    "plt.plot(chb04['true_2'])\n",
    "plt.subplot(3,4,7)\n",
    "plt.plot(chb04['prob_3'])\n",
    "plt.plot(chb04['true_3'])\n",
    "plt.subplot(3,4,8)\n",
    "plt.plot(chb04['prob_4'])\n",
    "plt.plot(chb04['true_4'])\n",
    "\n",
    "\n",
    "ax3 = plt.subplot(3,4,9)\n",
    "ax3.text(-0.1, 1.05, 'C', transform=ax3.transAxes, \n",
    "            size=20, weight='bold')\n",
    "plt.plot(chb09['prob_1'])\n",
    "plt.plot(chb09['true_1'])\n",
    "plt.subplot(3,4,10)\n",
    "plt.plot(chb09['prob_2'])\n",
    "plt.plot(chb09['true_2'])\n",
    "plt.subplot(3,4,11)\n",
    "plt.plot(chb09['prob_3'])\n",
    "plt.plot(chb09['true_3'])\n",
    "plt.subplot(3,4,12)\n",
    "plt.plot(chb09['prob_4'])\n",
    "plt.plot(chb09['true_4'])"
   ]
  },
  {
   "cell_type": "code",
   "execution_count": null,
   "metadata": {
    "collapsed": true
   },
   "outputs": [],
   "source": [
    "chb10 = np.load('./outputs/chb10init.npz', encoding='latin1')"
   ]
  },
  {
   "cell_type": "code",
   "execution_count": null,
   "metadata": {
    "collapsed": false,
    "scrolled": false
   },
   "outputs": [],
   "source": [
    "plotprob(chb10)"
   ]
  },
  {
   "cell_type": "code",
   "execution_count": 16,
   "metadata": {
    "collapsed": true
   },
   "outputs": [],
   "source": [
    "b = 0.9\n",
    "a = 0.55\n",
    "d = 7\n",
    "c = 3"
   ]
  },
  {
   "cell_type": "code",
   "execution_count": 17,
   "metadata": {
    "collapsed": false
   },
   "outputs": [],
   "source": [
    "x = np.random.random_sample((5,2))\n",
    "x[:,0] = (x[:,0] * (d - c)).astype('int') + c\n",
    "x[:,1] = (x[:,1] * (b - a)) + a"
   ]
  },
  {
   "cell_type": "code",
   "execution_count": 18,
   "metadata": {
    "collapsed": false,
    "scrolled": true
   },
   "outputs": [
    {
     "data": {
      "text/plain": [
       "array([[ 6.        ,  0.80735164],\n",
       "       [ 6.        ,  0.77955195],\n",
       "       [ 4.        ,  0.70136478],\n",
       "       [ 4.        ,  0.5897232 ],\n",
       "       [ 5.        ,  0.86899042]])"
      ]
     },
     "execution_count": 18,
     "metadata": {},
     "output_type": "execute_result"
    }
   ],
   "source": [
    "x"
   ]
  },
  {
   "cell_type": "code",
   "execution_count": null,
   "metadata": {
    "collapsed": true
   },
   "outputs": [],
   "source": [
    "def to_s(hz):\n",
    "    if type(hz) is int:\n",
    "        return int(hz / 256)\n",
    "    elif type(hz) is list:\n",
    "        return [int(hz / 256) for f in hz]\n",
    "    elif type(hz) is np.ndarray:\n",
    "        return hz / 256"
   ]
  },
  {
   "cell_type": "code",
   "execution_count": null,
   "metadata": {
    "collapsed": true
   },
   "outputs": [],
   "source": [
    "def szr_pc(subj, osr=1, usp=0):\n",
    "    total, seizure = 0, 0\n",
    "    for file_, (start, stop) in subj.get_ict():\n",
    "        total += to_s(subj.get_file(file_).get_rec().shape[1])\n",
    "        seizure += (stop - start)\n",
    "    return ((seizure * osr)/(total * (1 - usp))) * 100"
   ]
  },
  {
   "cell_type": "code",
   "execution_count": null,
   "metadata": {
    "collapsed": false
   },
   "outputs": [],
   "source": [
    "subj = chb.load_dataset('chb22')"
   ]
  },
  {
   "cell_type": "code",
   "execution_count": null,
   "metadata": {
    "collapsed": false
   },
   "outputs": [],
   "source": [
    "szr_pc(subj)"
   ]
  },
  {
   "cell_type": "code",
   "execution_count": null,
   "metadata": {
    "collapsed": false
   },
   "outputs": [],
   "source": [
    "szr_pc(subj, 4)"
   ]
  },
  {
   "cell_type": "code",
   "execution_count": null,
   "metadata": {
    "collapsed": false
   },
   "outputs": [],
   "source": [
    "szr_pc(subj, 5, 0.8)"
   ]
  },
  {
   "cell_type": "markdown",
   "metadata": {
    "collapsed": true
   },
   "source": [
    "## Over/Under-Sampling Tests\n",
    "We'll start with CHB05 and see where it goes."
   ]
  },
  {
   "cell_type": "code",
   "execution_count": 104,
   "metadata": {
    "collapsed": false
   },
   "outputs": [],
   "source": [
    "chb05samp = [\n",
    "    {'osr':6,'usp':0.97279509,\n",
    "     'mcc':[0.659999112736,0.614910581808,0.655943125903,\n",
    "            0.506662167418,0.500317761252],},\n",
    "    {'osr':5,'usp':0.47548674,\n",
    "     'mcc':[0.969956264552,0.842557962875,0.920803042474,\n",
    "            0.906016461937,0.868044450703],},\n",
    "    {'osr':6,'usp':0.26039901,\n",
    "     'mcc':[0.98265522272,0.908193284061,0.90419660998,\n",
    "            0.953574779815,0.884798433933],},\n",
    "    {'osr':3,'usp':0.48998689,\n",
    "     'mcc':[0.900923183936,0.845642228485,0.837171076377,\n",
    "            0.82944341319,0.783161804566],},\n",
    "    {'osr':4,'usp':0.5038716,\n",
    "     'mcc':[0.956052875517,0.891476173092,0.857239169232,\n",
    "            0.902443951583,0.886472984383],},\n",
    "    {'osr':4,'usp':0.94076041,\n",
    "     'mcc':[0.47632604846,0.844831609322,0.767630941835,\n",
    "            0.666575634304,0.461869741583],},\n",
    "    {'osr':4,'usp':0.062816,\n",
    "     'mcc':[0.937978274747,0.925710767293,0.89298785734,\n",
    "            0.897902613369,0.850119851039],},\n",
    "    {'osr':3,'usp':0.03713701,\n",
    "     'mcc':[0.951574389245,0.851138249725,0.882438451142,\n",
    "            0.839085440091,0.834127849656],},\n",
    "    {'osr':6,'usp':0.07069546,\n",
    "     'mcc':[0.982626864866,0.86264330942,0.878559279148,\n",
    "            0.912645969338,0.87848555481],},\n",
    "    {'osr':6,'usp':0.12884357,\n",
    "     'mcc':[0.98265522272,0.882907362926,0.898613342349,\n",
    "            0.949626965984,0.843308699813],},\n",
    "    {'osr':6,'usp':0.80735164,\n",
    "     'mcc':[0.978267974817,0.883454955739,0.842866039079,\n",
    "            0.861357222136,0.669871111545],},\n",
    "    {'osr':6,'usp':0.77955195,\n",
    "     'mcc':[0.94922971041,0.853602733604,0.842228813801,\n",
    "            0.845520890415,0.717656601298],},\n",
    "    {'osr':4,'usp':0.70136578,\n",
    "     'mcc':[0.96105771516,0.865389383721,0.904608036566,\n",
    "               0.851883199229,0.843731087928],},\n",
    "    {'osr':4,'usp':0.5897232,\n",
    "     'mcc':[0.924206119349,0.863215160264,0.92119949898,\n",
    "               0.914644984476,0.878304359492],},\n",
    "    {'osr':5,'usp':0.86899052,\n",
    "     'mcc':[0.947890131362,0.861161964696,0.860529878124,\n",
    "               0.759298855846,0.722659528579],},\n",
    "]\n",
    "pickle.dump(chb05samp, open('chb05samptest.p', 'wb'))"
   ]
  },
  {
   "cell_type": "code",
   "execution_count": 91,
   "metadata": {
    "collapsed": false
   },
   "outputs": [
    {
     "data": {
      "text/plain": [
       "<matplotlib.colorbar.Colorbar at 0x11e18ed30>"
      ]
     },
     "execution_count": 91,
     "metadata": {},
     "output_type": "execute_result"
    },
    {
     "data": {
      "image/png": "[encoded data removed]",
      "text/plain": [
       "<matplotlib.figure.Figure at 0x11df9feb8>"
      ]
     },
     "metadata": {},
     "output_type": "display_data"
    }
   ],
   "source": [
    "osr5 = [test['osr'] for test in chb05samp]\n",
    "usp5 = [test['usp'] for test in chb05samp]\n",
    "mcc5 = [np.mean(test['mcc']) for test in chb05samp]\n",
    "mccstd5 = [np.std(test['mcc']) for test in chb05samp]\n",
    "#pc5 = [szr_pc(chb05, test['osr'], test['usp']) for test in chb05samp]\n",
    "pc5 = [7.055728704718547,\n",
    " 0.30496601807595364,\n",
    " 0.2595324600583415,\n",
    " 0.18818189241869177,\n",
    " 0.25793116512618486,\n",
    " 2.1601597219729216,\n",
    " 0.13654413249072742,\n",
    " 0.09967693555044878,\n",
    " 0.20655281033737857,\n",
    " 0.22033983540279306,\n",
    " 0.996377360265537,\n",
    " 0.8707287925490147,\n",
    " 0.42850741038381307,\n",
    " 0.311904003015013,\n",
    " 1.2209705765585614]\n",
    "plt.figure()\n",
    "plt.scatter(usp5, osr5, c=mcc5, s=[x * 5e3 for x in mccstd5], alpha=0.75)\n",
    "plt.colorbar()\n"
   ]
  },
  {
   "cell_type": "code",
   "execution_count": 93,
   "metadata": {
    "collapsed": false,
    "scrolled": true
   },
   "outputs": [
    {
     "data": {
      "image/png": "[encoded data removed]",
      "text/plain": [
       "<matplotlib.figure.Figure at 0x11e203400>"
      ]
     },
     "metadata": {},
     "output_type": "display_data"
    }
   ],
   "source": [
    "fig = plt.figure()\n",
    "ax = plt.gca()\n",
    "ax.scatter(pc5, mcc5, marker='o', s=[x * 2.5e3 for x in mccstd5], alpha=0.75)\n",
    "ax.set_xscale('log')\n",
    "ax.grid(which='both')"
   ]
  },
  {
   "cell_type": "code",
   "execution_count": 105,
   "metadata": {
    "collapsed": true
   },
   "outputs": [],
   "source": [
    "chb20samp = [\n",
    "    {'osr':6, 'usp':0.96988346, # 0\n",
    "     'mcc':[0.540981395854,0.550597785421,0.583310067086,0.664255601999,\n",
    "            0.634548314526,0.648648917826,0.223008514099,0.292356620175]},\n",
    "    {'osr':3,'usp':0.81363392, # 1\n",
    "     'mcc':[0.589577603986,0.540547876974,0.389502944467,0.79827947514,\n",
    "            0.64131006571,0.726877785138,0.158888533912,0.267040367705]},\n",
    "    {'osr':6,'usp':0.28452097, # 2\n",
    "     'mcc':[0.631884059957,0.760272655978,0.613333568976,0.717049293983,\n",
    "            0.685880773635,0.712019263772,0.133219188553,0.137618599407]},\n",
    "    {'osr':4,'usp':0.24318379, # 3\n",
    "     'mcc':[0.694849081382,0.495048250196,0.547410571674,0.750039913673,\n",
    "            0.607695279201,0.643797130572,0.142081403616,0.119331724335]},\n",
    "    {'osr':6,'usp':0.51591069, # 4\n",
    "     'mcc':[0.577001449321,0.616240387826,0.6117231674,0.744095685134,\n",
    "            0.658142808676,0.761161468547,0.125941959887,0.125578365389]},\n",
    "    {'osr':5,'usp':0.22879187, # 5\n",
    "     'mcc':[0.602243717881,0.62001643421,0.489670168165,0.781510960476,\n",
    "            0.718932207016,0.755550523156,0.0904215193316,0.168258746655]},\n",
    "    {'osr':4,'usp':0.4071291, # 6\n",
    "     'mcc':[0.644432611671,0.511115226111,0.597874842817,0.670633681107,\n",
    "            0.629306464667,0.688842074547,0.261594879009,0.0722908749906]},\n",
    "    {'osr':6,'usp':0.48395341, # 7\n",
    "     'mcc':[0.707159741239,0.615530173098,0.592383765155,0.750850083884,\n",
    "            0.729271365135,0.751458043599,0.105516090237,0.175504555889]},\n",
    "    {'osr':5,'usp':0.22309933, # 8\n",
    "     'mcc':[0.591119766177,0.51694229868,0.591461839239,0.750039913673,\n",
    "            0.717417266896,0.724091015851,0.160966425332,0.0889393411994]},\n",
    "    {'osr':4,'usp':0.24176802, # 9\n",
    "     'mcc':[0.60938907833,0.548135452131,0.522164715784,0.773504194913,\n",
    "            0.68284341005,0.725539964439,0.202737166817,0.0472655725333]},\n",
    "]\n",
    "pickle.dump(chb20samp, open('chb20samptest.p', 'wb'))"
   ]
  },
  {
   "cell_type": "code",
   "execution_count": 92,
   "metadata": {
    "collapsed": false
   },
   "outputs": [
    {
     "data": {
      "text/plain": [
       "<matplotlib.colorbar.Colorbar at 0x11e37cc18>"
      ]
     },
     "execution_count": 92,
     "metadata": {},
     "output_type": "execute_result"
    },
    {
     "data": {
      "image/png": "[encoded data removed]",
      "text/plain": [
       "<matplotlib.figure.Figure at 0x11e1e6400>"
      ]
     },
     "metadata": {},
     "output_type": "display_data"
    }
   ],
   "source": [
    "osr20 = [test['osr'] for test in chb20samp]\n",
    "usp20 = [test['usp'] for test in chb20samp]\n",
    "mcc20 = [np.mean(test['mcc']) for test in chb20samp]\n",
    "mccstd20 = [np.std(test['mcc']) for test in chb20samp]\n",
    "#pc20 = [szr_pc(chb20, test['osr'], test['usp']) for test in chb20samp]\n",
    "pc20 = [2.174020692439478,\n",
    " 0.17565959734915595,\n",
    " 0.09151069199705428,\n",
    " 0.05767492845207528,\n",
    " 0.13525186322474497,\n",
    " 0.07074828289725237,\n",
    " 0.0736236518997994,\n",
    " 0.12687610462590437,\n",
    " 0.0702298930362629,\n",
    " 0.05756723788295078]\n",
    "plt.figure()\n",
    "plt.scatter(usp20, osr20, c=mcc20, s=[x * 2e3 for x in mccstd20], alpha=0.75)\n",
    "plt.colorbar()\n"
   ]
  },
  {
   "cell_type": "code",
   "execution_count": 94,
   "metadata": {
    "collapsed": false
   },
   "outputs": [
    {
     "data": {
      "image/png": "[encoded data removed]",
      "text/plain": [
       "<matplotlib.figure.Figure at 0x11e05e320>"
      ]
     },
     "metadata": {},
     "output_type": "display_data"
    }
   ],
   "source": [
    "fig = plt.figure()\n",
    "ax = plt.gca()\n",
    "ax.scatter(pc20, mcc20, marker='o', s=[x * 2e3 for x in mccstd20], alpha=0.75)\n",
    "ax.set_xscale('log')\n",
    "ax.grid(which='both')"
   ]
  },
  {
   "cell_type": "code",
   "execution_count": 106,
   "metadata": {
    "collapsed": true
   },
   "outputs": [],
   "source": [
    "chb21samp = [\n",
    "    {'osr':4,\n",
    "     'usp':0.67562778,\n",
    "     'mcc':[0.356854570228, 0.263567586074, 0.151792803992, 0.305683281437],},\n",
    "    {'osr':4,\n",
    "     'usp':0.68228429,\n",
    "     'mcc':[0.19197466619,0.538383885762,0.473577128062,0.130946740528],},\n",
    "    {'osr':6,\n",
    "     'usp':0.58934185,\n",
    "     'mcc':[0.406755465986,0.406071246179,0.295065503694,0.468073566392],},\n",
    "    {'osr':5,\n",
    "     'usp':0.78269928,\n",
    "     'mcc':[0.348710483264,0.130373894333,0.257524108779,0.286508455002],},\n",
    "    {'osr':4,\n",
    "     'usp':0.30917857,\n",
    "     'mcc':[0.268043052858,0.389284838944,0.501311804467,0.256095257032],},\n",
    "    {'osr':5,\n",
    "     'usp':0.35367979,\n",
    "     'mcc':[0.268043052858,0.233032441664,0.663775611999,0.198495797899],},\n",
    "    {'osr':3,\n",
    "     'usp':0.76457202,\n",
    "     'mcc':[0.168474142468,0.355276215107,0.462126607892,0.185523524593],},\n",
    "    {'osr':4,\n",
    "     'usp':0.53239368,\n",
    "     'mcc':[0.156637343639,0.386873765009,0.271673745244,0.340939551797],},\n",
    "    {'osr':6,\n",
    "     'usp':0.2474348,\n",
    "     'mcc':[0.382682676333,0.525657383421,0.43778602586,0.386426886372],},\n",
    "    {'osr':6,\n",
    "     'usp':0.28549516,\n",
    "     'mcc':[0.365808453647,0.545538550192,0.417255024943,0.299600636954],},\n",
    "]\n",
    "pickle.dump(chb21samp, open('chb21samptest.p', 'wb'))"
   ]
  },
  {
   "cell_type": "code",
   "execution_count": 95,
   "metadata": {
    "collapsed": false
   },
   "outputs": [
    {
     "data": {
      "text/plain": [
       "<matplotlib.colorbar.Colorbar at 0x11d97f278>"
      ]
     },
     "execution_count": 95,
     "metadata": {},
     "output_type": "execute_result"
    },
    {
     "data": {
      "image/png": "[encoded data removed]",
      "text/plain": [
       "<matplotlib.figure.Figure at 0x11d49bbe0>"
      ]
     },
     "metadata": {},
     "output_type": "display_data"
    }
   ],
   "source": [
    "osr21 = [test['osr'] for test in chb21samp]\n",
    "usp21 = [test['usp'] for test in chb21samp]\n",
    "mcc21 = [np.mean(test['mcc']) for test in chb21samp]\n",
    "mccstd21 = [np.std(test['mcc']) for test in chb21samp]\n",
    "#pc21 = [szr_pc(chb21, test['osr'], test['usp']) for test in chb21samp]\n",
    "pc21 = [0.1805585265981609,\n",
    " 0.184341435658232,\n",
    " 0.21393038265248535,\n",
    " 0.3369073634027449,\n",
    " 0.08478047664585985,\n",
    " 0.11327235557235339,\n",
    " 0.18657989413336035,\n",
    " 0.12525102336635335,\n",
    " 0.11673706832160421,\n",
    " 0.12295543745912449]\n",
    "plt.figure()\n",
    "plt.scatter(usp21, osr21, c=mcc21, s=[x * 2e3 for x in mccstd21], alpha=0.75)\n",
    "plt.colorbar()\n"
   ]
  },
  {
   "cell_type": "code",
   "execution_count": 96,
   "metadata": {
    "collapsed": false
   },
   "outputs": [
    {
     "data": {
      "image/png": "[encoded data removed]",
      "text/plain": [
       "<matplotlib.figure.Figure at 0x11ddc89b0>"
      ]
     },
     "metadata": {},
     "output_type": "display_data"
    }
   ],
   "source": [
    "fig = plt.figure()\n",
    "ax = plt.gca()\n",
    "ax.scatter(pc21, mcc21, marker='o', s=[x * 2e3 for x in mccstd21], alpha=0.75)\n",
    "#ax.set_xscale('log')\n",
    "ax.grid(which='both')"
   ]
  },
  {
   "cell_type": "code",
   "execution_count": null,
   "metadata": {
    "collapsed": true
   },
   "outputs": [],
   "source": []
  }
 ],
 "metadata": {
  "kernel_info": {
   "name": "python3"
  },
  "kernelspec": {
   "display_name": "Python 3",
   "language": "python",
   "name": "python3"
  },
  "language_info": {
   "codemirror_mode": {
    "name": "ipython",
    "version": 3
   },
   "file_extension": ".py",
   "mimetype": "text/x-python",
   "name": "python",
   "nbconvert_exporter": "python",
   "pygments_lexer": "ipython3",
   "version": "3.6.0"
  }
 },
 "nbformat": 4,
 "nbformat_minor": 2
}
