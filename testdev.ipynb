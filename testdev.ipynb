{
 "cells": [
  {
   "cell_type": "code",
   "execution_count": 1,
   "metadata": {
    "collapsed": false
   },
   "outputs": [],
   "source": [
    "%matplotlib inline\n",
    "\n",
    "import chb\n",
    "import scipy.io as sio\n",
    "import numpy as np\n",
    "import os\n",
    "import matplotlib.pyplot as plt\n",
    "from matplotlib.collections import LineCollection\n"
   ]
  },
  {
   "cell_type": "code",
   "execution_count": 2,
   "metadata": {
    "collapsed": false
   },
   "outputs": [
    {
     "name": "stdout",
     "output_type": "stream",
     "text": [
      "Loading: /Users/adamcellon/Drive/senior/thesis/data/chb01.npz\n",
      "Done.\n"
     ]
    }
   ],
   "source": [
    "chb1 = chb.load_meta('chb01')\n",
    "chb1 = chb.load_data(chb1,EXTHD=False)"
   ]
  },
  {
   "cell_type": "code",
   "execution_count": 3,
   "metadata": {
    "collapsed": false
   },
   "outputs": [],
   "source": [
    "#chb1[2].plot(2000,10000)"
   ]
  },
  {
   "cell_type": "code",
   "execution_count": 4,
   "metadata": {
    "collapsed": false,
    "scrolled": false
   },
   "outputs": [],
   "source": [
    "#chb1[2].plot(2000, 800000, 12, 15)"
   ]
  },
  {
   "cell_type": "markdown",
   "metadata": {},
   "source": [
    "## Making epochs"
   ]
  },
  {
   "cell_type": "code",
   "execution_count": 5,
   "metadata": {
    "collapsed": false
   },
   "outputs": [
    {
     "name": "stdout",
     "output_type": "stream",
     "text": [
      "Labeling chb01_01\n",
      "Labeling chb01_02\n",
      "Labeling chb01_03\n",
      "Labeling chb01_04\n",
      "Labeling chb01_05\n",
      "Labeling chb01_06\n",
      "Labeling chb01_07\n",
      "Labeling chb01_08\n",
      "Labeling chb01_09\n",
      "Labeling chb01_10\n",
      "Labeling chb01_11\n",
      "Labeling chb01_12\n",
      "Labeling chb01_13\n",
      "Labeling chb01_14\n",
      "Labeling chb01_15\n",
      "Labeling chb01_16\n",
      "Labeling chb01_17\n",
      "Labeling chb01_18\n",
      "Labeling chb01_19\n",
      "Labeling chb01_20\n",
      "Labeling chb01_21\n",
      "Labeling chb01_22\n",
      "Labeling chb01_23\n",
      "Labeling chb01_24\n",
      "Labeling chb01_25\n",
      "Labeling chb01_26\n",
      "Labeling chb01_27\n",
      "Labeling chb01_29\n",
      "Labeling chb01_30\n",
      "Labeling chb01_31\n",
      "Labeling chb01_32\n",
      "Labeling chb01_33\n",
      "Labeling chb01_34\n",
      "Labeling chb01_36\n",
      "Labeling chb01_37\n",
      "Labeling chb01_38\n",
      "Labeling chb01_39\n",
      "Labeling chb01_40\n",
      "Labeling chb01_41\n",
      "Labeling chb01_42\n",
      "Labeling chb01_43\n",
      "Labeling chb01_46\n"
     ]
    }
   ],
   "source": [
    "trains, labels = chb.trainlabel(chb1)"
   ]
  },
  {
   "cell_type": "code",
   "execution_count": 21,
   "metadata": {
    "collapsed": false
   },
   "outputs": [
    {
     "data": {
      "image/png": "[encoded data removed]",
      "text/plain": [
       "<matplotlib.figure.Figure at 0x4429a0278>"
      ]
     },
     "metadata": {},
     "output_type": "display_data"
    }
   ],
   "source": [
    "for label in labels:\n",
    "    plt.plot(np.arange(len(label)),label)"
   ]
  },
  {
   "cell_type": "code",
   "execution_count": 22,
   "metadata": {
    "collapsed": true
   },
   "outputs": [],
   "source": [
    "labels = np.asarray(labels)"
   ]
  },
  {
   "cell_type": "code",
   "execution_count": 23,
   "metadata": {
    "collapsed": false
   },
   "outputs": [
    {
     "data": {
      "text/plain": [
       "array([array([ 0.,  0.,  0., ...,  0.,  0.,  0.]),\n",
       "       array([ 0.,  0.,  0., ...,  0.,  0.,  0.]),\n",
       "       array([ 0.,  0.,  0., ...,  0.,  0.,  0.]),\n",
       "       array([ 0.,  0.,  0., ...,  0.,  0.,  0.]),\n",
       "       array([ 0.,  0.,  0., ...,  0.,  0.,  0.]),\n",
       "       array([ 0.,  0.,  0., ...,  0.,  0.,  0.]),\n",
       "       array([ 0.,  0.,  0., ...,  0.,  0.,  0.]),\n",
       "       array([ 0.,  0.,  0., ...,  0.,  0.,  0.]),\n",
       "       array([ 0.,  0.,  0., ...,  0.,  0.,  0.]),\n",
       "       array([ 0.,  0.,  0., ...,  0.,  0.,  0.]),\n",
       "       array([ 0.,  0.,  0., ...,  0.,  0.,  0.]),\n",
       "       array([ 0.,  0.,  0., ...,  0.,  0.,  0.]),\n",
       "       array([ 0.,  0.,  0., ...,  0.,  0.,  0.]),\n",
       "       array([ 0.,  0.,  0., ...,  0.,  0.,  0.]),\n",
       "       array([ 0.,  0.,  0., ...,  0.,  0.,  0.]),\n",
       "       array([ 0.,  0.,  0., ...,  0.,  0.,  0.]),\n",
       "       array([ 0.,  0.,  0., ...,  0.,  0.,  0.]),\n",
       "       array([ 0.,  0.,  0., ...,  0.,  0.,  0.]),\n",
       "       array([ 0.,  0.,  0., ...,  0.,  0.,  0.]),\n",
       "       array([ 0.,  0.,  0., ...,  0.,  0.,  0.]),\n",
       "       array([ 0.,  0.,  0., ...,  0.,  0.,  0.]),\n",
       "       array([ 0.,  0.,  0., ...,  0.,  0.,  0.]),\n",
       "       array([ 0.,  0.,  0., ...,  0.,  0.,  0.]),\n",
       "       array([ 0.,  0.,  0., ...,  0.,  0.,  0.]),\n",
       "       array([ 0.,  0.,  0., ...,  0.,  0.,  0.]),\n",
       "       array([ 0.,  0.,  0., ...,  0.,  0.,  0.]),\n",
       "       array([ 0.,  0.,  0.,  0.,  0.,  0.,  0.,  0.,  0.,  0.,  0.,  0.,  0.,\n",
       "        0.,  0.,  0.,  0.,  0.,  0.,  0.,  0.,  0.,  0.,  0.,  0.,  0.,\n",
       "        0.,  0.,  0.,  0.,  0.,  0.,  0.,  0.,  0.,  0.,  0.,  0.,  0.,\n",
       "        0.,  0.,  0.,  0.,  0.,  0.,  0.,  0.,  0.,  0.,  0.,  0.,  0.,\n",
       "        0.,  0.,  0.,  0.,  0.,  0.,  0.,  0.,  0.,  0.,  0.,  0.,  0.,\n",
       "        0.,  0.,  0.,  0.,  0.,  0.,  0.,  0.,  0.,  0.,  0.,  0.,  0.,\n",
       "        0.,  0.,  0.,  0.,  0.,  0.,  0.,  0.,  0.,  0.,  0.,  0.,  0.,\n",
       "        0.,  0.,  0.,  0.,  0.,  0.,  0.,  0.,  0.,  0.,  0.,  0.,  0.,\n",
       "        0.,  0.,  0.,  0.,  0.,  0.,  0.,  0.,  0.,  0.,  0.,  0.,  0.,\n",
       "        0.,  0.,  0.,  0.,  0.,  0.,  0.,  0.,  0.,  0.,  0.,  0.,  0.,\n",
       "        0.,  0.,  0.,  0.,  0.,  0.,  0.,  0.,  0.,  0.,  0.,  0.,  0.,\n",
       "        0.,  0.,  0.,  0.,  0.,  0.,  0.,  0.,  0.,  0.,  0.,  0.,  0.,\n",
       "        0.,  0.,  0.,  0.,  0.,  0.,  0.,  0.,  0.,  0.,  0.,  0.,  0.,\n",
       "        0.,  0.,  0.,  0.,  0.,  0.,  0.,  0.,  0.,  0.,  0.,  0.,  0.,\n",
       "        0.,  0.,  0.,  0.,  0.,  0.,  0.,  0.,  0.,  0.,  0.,  0.,  0.,\n",
       "        0.,  0.,  0.,  0.,  0.,  0.,  0.,  0.,  0.,  0.,  0.,  0.,  0.,\n",
       "        0.,  0.,  0.,  0.,  0.,  0.,  0.,  0.,  0.,  0.,  0.,  0.,  0.,\n",
       "        0.,  0.,  0.,  0.,  0.,  0.,  0.,  0.,  0.,  0.,  0.,  0.,  0.,\n",
       "        0.,  0.,  0.,  0.,  0.,  0.,  0.,  0.,  0.,  0.,  0.,  0.,  0.,\n",
       "        0.,  0.,  0.,  0.,  0.,  0.,  0.,  0.,  0.,  0.,  0.,  0.,  0.,\n",
       "        0.,  0.,  0.,  0.,  0.,  0.,  0.,  0.,  0.,  0.,  0.,  0.,  0.,\n",
       "        0.,  0.,  0.,  0.,  0.,  0.,  0.,  0.,  0.,  0.,  0.,  0.,  0.,\n",
       "        0.,  0.,  0.,  0.,  0.,  0.,  0.,  0.,  0.,  0.,  0.,  0.,  0.,\n",
       "        0.,  0.,  0.,  0.,  0.,  0.,  0.,  0.,  0.,  0.,  0.,  0.,  0.,\n",
       "        0.,  0.,  0.,  0.,  0.,  0.,  0.,  0.,  0.,  0.,  0.,  0.,  0.,\n",
       "        0.,  0.,  0.,  0.,  0.,  0.,  0.,  0.,  0.,  0.,  0.,  0.,  0.,\n",
       "        0.,  0.,  0.,  0.,  0.,  0.,  0.,  0.,  0.,  0.,  0.,  0.,  0.,\n",
       "        0.,  0.,  0.,  0.,  0.,  0.,  0.,  0.,  0.,  0.,  0.,  0.,  0.,\n",
       "        0.,  0.,  0.,  0.,  0.,  0.,  0.,  0.,  0.,  0.,  0.,  0.,  0.,\n",
       "        0.,  0.,  0.,  0.,  0.,  0.,  0.,  0.,  0.,  0.,  0.,  0.,  0.,\n",
       "        0.,  0.,  0.,  0.,  0.,  0.,  0.,  0.,  0.,  0.,  0.,  0.,  0.,\n",
       "        0.,  0.,  0.,  0.,  0.,  0.,  0.,  0.,  0.,  0.,  0.,  0.,  0.,\n",
       "        0.,  0.,  0.,  0.,  0.,  0.,  0.,  0.,  0.,  0.,  0.,  0.,  0.,\n",
       "        0.,  0.,  0.,  0.,  0.,  0.,  0.,  0.,  0.,  0.,  0.,  0.,  0.,\n",
       "        0.,  0.,  0.,  0.,  0.,  0.,  0.,  0.,  0.,  0.,  0.,  0.,  0.,\n",
       "        0.,  0.,  0.,  0.,  0.,  0.,  0.,  0.,  0.,  0.,  0.,  0.,  0.,\n",
       "        0.,  0.,  0.,  0.,  0.,  0.,  0.,  0.,  0.,  0.,  0.,  0.,  0.,\n",
       "        0.,  0.,  0.,  0.,  0.,  0.,  0.,  0.,  0.,  0.,  0.,  0.,  0.,\n",
       "        0.,  0.,  0.,  0.,  0.,  0.,  0.,  0.,  0.,  0.,  0.,  0.,  0.,\n",
       "        0.,  0.,  0.,  0.,  0.,  0.,  0.,  0.,  0.,  0.,  0.,  0.,  0.,\n",
       "        0.,  0.,  0.,  0.,  0.,  0.,  0.,  0.,  0.,  0.,  0.,  0.,  0.,\n",
       "        0.,  0.,  0.,  0.,  0.,  0.,  0.,  0.,  0.,  0.,  0.,  0.,  0.,\n",
       "        0.,  0.,  0.,  0.,  0.,  0.,  0.,  0.,  0.,  0.,  0.,  0.,  0.,\n",
       "        0.,  0.,  0.,  0.,  0.,  0.,  0.,  0.,  0.,  0.,  0.,  0.,  0.,\n",
       "        0.,  0.,  0.,  0.,  0.,  0.,  0.,  0.,  0.,  0.,  0.,  0.,  0.,\n",
       "        0.,  0.,  0.,  0.,  0.,  0.,  0.,  0.,  0.,  0.,  0.,  0.,  0.,\n",
       "        0.,  0.]),\n",
       "       array([ 0.,  0.,  0., ...,  0.,  0.,  0.]),\n",
       "       array([ 0.,  0.,  0., ...,  0.,  0.,  0.]),\n",
       "       array([ 0.,  0.,  0., ...,  0.,  0.,  0.]),\n",
       "       array([ 0.,  0.,  0., ...,  0.,  0.,  0.]),\n",
       "       array([ 0.,  0.,  0., ...,  0.,  0.,  0.]),\n",
       "       array([ 0.,  0.,  0., ...,  0.,  0.,  0.]),\n",
       "       array([ 0.,  0.,  0., ...,  0.,  0.,  0.]),\n",
       "       array([ 0.,  0.,  0., ...,  0.,  0.,  0.]),\n",
       "       array([ 0.,  0.,  0., ...,  0.,  0.,  0.]),\n",
       "       array([ 0.,  0.,  0., ...,  0.,  0.,  0.]),\n",
       "       array([ 0.,  0.,  0., ...,  0.,  0.,  0.]),\n",
       "       array([ 0.,  0.,  0., ...,  0.,  0.,  0.]),\n",
       "       array([ 0.,  0.,  0., ...,  0.,  0.,  0.]),\n",
       "       array([ 0.,  0.,  0., ...,  0.,  0.,  0.]),\n",
       "       array([ 0.,  0.,  0., ...,  0.,  0.,  0.])], dtype=object)"
      ]
     },
     "execution_count": 23,
     "metadata": {},
     "output_type": "execute_result"
    }
   ],
   "source": [
    "labels"
   ]
  },
  {
   "cell_type": "code",
   "execution_count": null,
   "metadata": {
    "collapsed": true
   },
   "outputs": [],
   "source": []
  }
 ],
 "metadata": {
  "kernelspec": {
   "display_name": "Python 3",
   "language": "python",
   "name": "python3"
  },
  "language_info": {
   "codemirror_mode": {
    "name": "ipython",
    "version": 3
   },
   "file_extension": ".py",
   "mimetype": "text/x-python",
   "name": "python",
   "nbconvert_exporter": "python",
   "pygments_lexer": "ipython3",
   "version": "3.6.0"
  }
 },
 "nbformat": 4,
 "nbformat_minor": 2
}
